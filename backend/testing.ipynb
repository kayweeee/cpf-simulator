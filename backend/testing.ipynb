{
 "cells": [
  {
   "cell_type": "code",
   "execution_count": 1,
   "metadata": {},
   "outputs": [],
   "source": [
    "output = \"\"\"\n",
    "{\"Accuracy\": 2, \"Precision\": 2, \"Tone\": 3, \"Feedback\": \"The trainee's response has some inaccuracies and lacks precision. The FRS amount is actually based on the year the individual turns 55, not 60. It would be helpful to correct this. The response could be clearer and more direct in guiding the customer on where to find the necessary information. The tone is acceptable but could be more engaging and supportive.\"}\n",
    "\"\"\""
   ]
  },
  {
   "cell_type": "code",
   "execution_count": 2,
   "metadata": {},
   "outputs": [
    {
     "name": "stdout",
     "output_type": "stream",
     "text": [
      "<class 'str'>\n",
      "<class 'dict'>\n"
     ]
    }
   ],
   "source": [
    "import json\n",
    "\n",
    "#json string data\n",
    "# employee_string = '{\"first_name\": \"Michael\", \"last_name\": \"Rodgers\", \"department\": \"Marketing\"}'\n",
    "\n",
    "#check data type with type() method\n",
    "print(type(output))\n",
    "\n",
    "json_object = json.loads(output)\n",
    "\n",
    "#check new data type\n",
    "print(type(json_object))"
   ]
  },
  {
   "cell_type": "code",
   "execution_count": 3,
   "metadata": {},
   "outputs": [
    {
     "name": "stdout",
     "output_type": "stream",
     "text": [
      "{'Accuracy': 2, 'Precision': 2, 'Tone': 3, 'Feedback': \"The trainee's response has some inaccuracies and lacks precision. The FRS amount is actually based on the year the individual turns 55, not 60. It would be helpful to correct this. The response could be clearer and more direct in guiding the customer on where to find the necessary information. The tone is acceptable but could be more engaging and supportive.\"}\n"
     ]
    }
   ],
   "source": [
    "print(json_object)"
   ]
  },
  {
   "cell_type": "code",
   "execution_count": 4,
   "metadata": {},
   "outputs": [
    {
     "name": "stdout",
     "output_type": "stream",
     "text": [
      "{'accuracy_score': 2, 'precision_score': 2, 'tone_score': 3, 'feedback': \"The trainee's response has some inaccuracies and lacks precision. The FRS amount is actually based on the year the individual turns 55, not 60. It would be helpful to correct this. The response could be clearer and more direct in guiding the customer on where to find the necessary information. The tone is acceptable but could be more engaging and supportive.\"}\n"
     ]
    }
   ],
   "source": [
    "lowercase_dict = {'accuracy_score': json_object.get('Accuracy'), \n",
    "                  'precision_score': json_object.get('Precision'), \n",
    "                  'tone_score': json_object.get('Tone'), \n",
    "                  'feedback': json_object.get('Feedback')}\n",
    "\n",
    "print(lowercase_dict)"
   ]
  },
  {
   "cell_type": "code",
   "execution_count": 9,
   "metadata": {},
   "outputs": [],
   "source": [
    "schema = {\n",
    "  \"user_id\": \"9ff6fc2b-9914-4f54-a337-7a8d1baf99d7\",\n",
    "  \"question_id\": 0,\n",
    "  \"precision_score\": 0,\n",
    "  \"accuracy_score\": 0,\n",
    "  \"tone_score\": 0,\n",
    "  \"feedback\": \"string\",\n",
    "  \"response\": \"The Full Retirement Sum (FRS) applicable to your father depends on the year he turned 60. You can just find the exact sum on the CPF FAQ question : What are the retirement sums applicable to me?\",\n",
    "  \"question\": \"Is the FRS amount based upon the year at which age that 55. So if my dad is 69 years now, the FRS amount is still based on the amount when he is at 55yrs? Do you have the chart under RSS scheme for FRS to check back against when he was 55 yrs?\",\n",
    "  \"ideal\": \"The Full Retirement Sum (FRS) applicable to your father depends on the year he turned 55. You can view the pdf with the past years’ Full Retirement Sums which is in our website FAQ on What are the retirement sums applicable to me?\"\n",
    "}"
   ]
  },
  {
   "cell_type": "code",
   "execution_count": 6,
   "metadata": {},
   "outputs": [
    {
     "name": "stdout",
     "output_type": "stream",
     "text": [
      "Collecting pydantic-settings\n",
      "  Using cached pydantic_settings-2.2.1-py3-none-any.whl (13 kB)\n",
      "Requirement already satisfied: pydantic>=2.3.0 in c:\\users\\tanka\\anaconda3\\lib\\site-packages (from pydantic-settings) (2.6.4)\n",
      "Collecting python-dotenv>=0.21.0\n",
      "  Using cached python_dotenv-1.0.1-py3-none-any.whl (19 kB)\n",
      "Requirement already satisfied: pydantic-core==2.16.3 in c:\\users\\tanka\\anaconda3\\lib\\site-packages (from pydantic>=2.3.0->pydantic-settings) (2.16.3)\n",
      "Requirement already satisfied: typing-extensions>=4.6.1 in c:\\users\\tanka\\anaconda3\\lib\\site-packages (from pydantic>=2.3.0->pydantic-settings) (4.8.0)\n",
      "Requirement already satisfied: annotated-types>=0.4.0 in c:\\users\\tanka\\anaconda3\\lib\\site-packages (from pydantic>=2.3.0->pydantic-settings) (0.6.0)\n",
      "Installing collected packages: python-dotenv, pydantic-settings\n",
      "Successfully installed pydantic-settings-2.2.1 python-dotenv-1.0.1\n"
     ]
    }
   ],
   "source": [
    "!pip install pydantic-settings"
   ]
  },
  {
   "cell_type": "code",
   "execution_count": 10,
   "metadata": {},
   "outputs": [
    {
     "ename": "AttributeError",
     "evalue": "'dict' object has no attribute 'dict'",
     "output_type": "error",
     "traceback": [
      "\u001b[1;31m---------------------------------------------------------------------------\u001b[0m",
      "\u001b[1;31mAttributeError\u001b[0m                            Traceback (most recent call last)",
      "\u001b[1;32m<ipython-input-10-d97eaaad1745>\u001b[0m in \u001b[0;36m<module>\u001b[1;34m\u001b[0m\n\u001b[0;32m      1\u001b[0m \u001b[1;32mfrom\u001b[0m \u001b[0mmodels\u001b[0m\u001b[1;33m.\u001b[0m\u001b[0mattempt\u001b[0m \u001b[1;32mimport\u001b[0m \u001b[0mAttemptModel\u001b[0m\u001b[1;33m\u001b[0m\u001b[1;33m\u001b[0m\u001b[0m\n\u001b[0;32m      2\u001b[0m \u001b[1;33m\u001b[0m\u001b[0m\n\u001b[1;32m----> 3\u001b[1;33m \u001b[0mmodel\u001b[0m \u001b[1;33m=\u001b[0m \u001b[0mAttemptModel\u001b[0m\u001b[1;33m(\u001b[0m\u001b[1;33m**\u001b[0m\u001b[0mschema\u001b[0m\u001b[1;33m.\u001b[0m\u001b[0mdict\u001b[0m\u001b[1;33m(\u001b[0m\u001b[1;33m)\u001b[0m\u001b[1;33m)\u001b[0m\u001b[1;33m\u001b[0m\u001b[1;33m\u001b[0m\u001b[0m\n\u001b[0m\u001b[0;32m      4\u001b[0m \u001b[1;33m\u001b[0m\u001b[0m\n\u001b[0;32m      5\u001b[0m \u001b[0mprint\u001b[0m\u001b[1;33m(\u001b[0m\u001b[0mmodel\u001b[0m\u001b[1;33m)\u001b[0m\u001b[1;33m\u001b[0m\u001b[1;33m\u001b[0m\u001b[0m\n",
      "\u001b[1;31mAttributeError\u001b[0m: 'dict' object has no attribute 'dict'"
     ]
    }
   ],
   "source": [
    "from models.attempt import AttemptModel\n",
    "\n",
    "model = AttemptModel(**schema.dict())\n",
    "\n",
    "print(model)"
   ]
  }
 ],
 "metadata": {
  "kernelspec": {
   "display_name": "base",
   "language": "python",
   "name": "python3"
  },
  "language_info": {
   "codemirror_mode": {
    "name": "ipython",
    "version": 3
   },
   "file_extension": ".py",
   "mimetype": "text/x-python",
   "name": "python",
   "nbconvert_exporter": "python",
   "pygments_lexer": "ipython3",
   "version": "3.8.3"
  }
 },
 "nbformat": 4,
 "nbformat_minor": 2
}
